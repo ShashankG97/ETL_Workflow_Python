{
 "cells": [
  {
   "cell_type": "code",
   "execution_count": null,
   "id": "5365a12b",
   "metadata": {},
   "outputs": [],
   "source": [
    "# Import Required Libraries\n",
    "import pandas as pd\n",
    "import sqlalchemy\n",
    "# Add other libraries as needed for your ETL workflow"
   ]
  },
  {
   "cell_type": "markdown",
   "id": "b3c57d75",
   "metadata": {},
   "source": [
    "# ETL Pipeline Development Notebook\n",
    "\n",
    "This notebook is for developing and testing ETL logic as implemented in `etl.py`.\n",
    "Follow the sections below to build and run your ETL pipeline step by step."
   ]
  },
  {
   "cell_type": "code",
   "execution_count": null,
   "id": "684519e0",
   "metadata": {},
   "outputs": [],
   "source": [
    "# Define ETL Functions\n",
    "\n",
    "def extract(source_path):\n",
    "    \"\"\"Extract data from a source file.\"\"\"\n",
    "    # Example: Read CSV\n",
    "    if source_path.endswith('.csv'):\n",
    "        return pd.read_csv(source_path)\n",
    "    # Add logic for JSON, XML, etc.\n",
    "    return None\n",
    "\n",
    "def transform(df):\n",
    "    \"\"\"Transform the extracted data.\"\"\"\n",
    "    # Example: Simple transformation\n",
    "    df = df.dropna()\n",
    "    return df\n",
    "\n",
    "def load(df, dest_path):\n",
    "    \"\"\"Load data to the destination.\"\"\"\n",
    "    # Example: Save to CSV\n",
    "    df.to_csv(dest_path, index=False)\n"
   ]
  },
  {
   "cell_type": "code",
   "execution_count": null,
   "id": "49835dd0",
   "metadata": {},
   "outputs": [],
   "source": [
    "# Read Source Data\n",
    "source_file = 'source/source1.csv'  # Change as needed\n",
    "raw_data = extract(source_file)\n",
    "raw_data.head()"
   ]
  },
  {
   "cell_type": "code",
   "execution_count": null,
   "id": "103e2c6e",
   "metadata": {},
   "outputs": [],
   "source": [
    "# Transform Data\n",
    "transformed_data = transform(raw_data)\n",
    "transformed_data.head()"
   ]
  },
  {
   "cell_type": "code",
   "execution_count": null,
   "id": "e02465d8",
   "metadata": {},
   "outputs": [],
   "source": [
    "# Load Data to Destination\n",
    "output_file = 'source/transformed_source1.csv'  # Change as needed\n",
    "load(transformed_data, output_file)\n",
    "print(f\"Transformed data saved to {output_file}\")"
   ]
  },
  {
   "cell_type": "code",
   "execution_count": null,
   "id": "a127a2a4",
   "metadata": {},
   "outputs": [],
   "source": [
    "# Run ETL Pipeline\n",
    "source_file = 'source/source1.csv'  # Change as needed\n",
    "output_file = 'source/transformed_source1.csv'\n",
    "\n",
    "data = extract(source_file)\n",
    "data = transform(data)\n",
    "load(data, output_file)\n",
    "print(\"ETL pipeline executed successfully.\")"
   ]
  }
 ],
 "metadata": {
  "language_info": {
   "name": "python"
  }
 },
 "nbformat": 4,
 "nbformat_minor": 5
}
